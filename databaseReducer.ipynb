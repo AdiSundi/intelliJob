{
 "cells": [
  {
   "cell_type": "code",
   "execution_count": 2,
   "metadata": {},
   "outputs": [
    {
     "name": "stdout",
     "output_type": "stream",
     "text": [
      "\n"
     ]
    },
    {
     "data": {
      "text/html": [
       "<div>\n",
       "<style scoped>\n",
       "    .dataframe tbody tr th:only-of-type {\n",
       "        vertical-align: middle;\n",
       "    }\n",
       "\n",
       "    .dataframe tbody tr th {\n",
       "        vertical-align: top;\n",
       "    }\n",
       "\n",
       "    .dataframe thead th {\n",
       "        text-align: right;\n",
       "    }\n",
       "</style>\n",
       "<table border=\"1\" class=\"dataframe\">\n",
       "  <thead>\n",
       "    <tr style=\"text-align: right;\">\n",
       "      <th></th>\n",
       "      <th>Unnamed: 0</th>\n",
       "      <th>title</th>\n",
       "      <th>company name</th>\n",
       "      <th>link</th>\n",
       "      <th>date listed</th>\n",
       "      <th>salary</th>\n",
       "      <th>job description</th>\n",
       "    </tr>\n",
       "  </thead>\n",
       "  <tbody>\n",
       "    <tr>\n",
       "      <th>0</th>\n",
       "      <td>0</td>\n",
       "      <td>newCall Centre Agent</td>\n",
       "      <td>RMA CONTRACTS PTE. LTD.</td>\n",
       "      <td>sg.indeed.com/rc/clk?jk=a833dcac9b845238&amp;fccid...</td>\n",
       "      <td>Posted8 days ago</td>\n",
       "      <td>$2,600 - $2,800 a month</td>\n",
       "      <td>Handle a large volume of outbound calls in a t...</td>\n",
       "    </tr>\n",
       "    <tr>\n",
       "      <th>1</th>\n",
       "      <td>1</td>\n",
       "      <td>newMachine Operator - General Worker</td>\n",
       "      <td>EURO-LINK CONSULTANTS</td>\n",
       "      <td>sg.indeed.com/rc/clk?jk=86d2c472c28278ef&amp;fccid...</td>\n",
       "      <td>Posted7 days ago</td>\n",
       "      <td>$2,900 - $3,800 a month</td>\n",
       "      <td>6 days work week, off on Sundays.\\nWilling to ...</td>\n",
       "    </tr>\n",
       "    <tr>\n",
       "      <th>2</th>\n",
       "      <td>2</td>\n",
       "      <td>Packing</td>\n",
       "      <td>HOT SPICE CATERING PTE. LTD.</td>\n",
       "      <td>sg.indeed.com/rc/clk?jk=60532769fe7fed06&amp;fccid...</td>\n",
       "      <td>Posted30+ days ago</td>\n",
       "      <td>$5,000 - $6,500 a month</td>\n",
       "      <td>Keep Rice on the Rice steamers on the stipulat...</td>\n",
       "    </tr>\n",
       "    <tr>\n",
       "      <th>3</th>\n",
       "      <td>3</td>\n",
       "      <td>Work-from-home Accountants</td>\n",
       "      <td>Smaths Group of Companies pte ltd</td>\n",
       "      <td>sg.indeed.com/rc/clk?jk=5bb77b27c75a52dc&amp;fccid...</td>\n",
       "      <td>Posted30+ days ago</td>\n",
       "      <td>$15 an hour</td>\n",
       "      <td>Work-from-home Accountants Job Scope? To compl...</td>\n",
       "    </tr>\n",
       "    <tr>\n",
       "      <th>4</th>\n",
       "      <td>4</td>\n",
       "      <td>Trainee Restaurant Supervisor</td>\n",
       "      <td>NaN</td>\n",
       "      <td>sg.indeed.com/pagead/clk?mo=r&amp;ad=-6NYlbfkN0AbL...</td>\n",
       "      <td>Posted9 days ago</td>\n",
       "      <td>$2,600 - $3,000 a month</td>\n",
       "      <td>6 days rotational shift work week.\\nSalary up ...</td>\n",
       "    </tr>\n",
       "  </tbody>\n",
       "</table>\n",
       "</div>"
      ],
      "text/plain": [
       "   Unnamed: 0                                 title  \\\n",
       "0           0                  newCall Centre Agent   \n",
       "1           1  newMachine Operator - General Worker   \n",
       "2           2                               Packing   \n",
       "3           3            Work-from-home Accountants   \n",
       "4           4         Trainee Restaurant Supervisor   \n",
       "\n",
       "                        company name  \\\n",
       "0            RMA CONTRACTS PTE. LTD.   \n",
       "1              EURO-LINK CONSULTANTS   \n",
       "2       HOT SPICE CATERING PTE. LTD.   \n",
       "3  Smaths Group of Companies pte ltd   \n",
       "4                                NaN   \n",
       "\n",
       "                                                link         date listed  \\\n",
       "0  sg.indeed.com/rc/clk?jk=a833dcac9b845238&fccid...    Posted8 days ago   \n",
       "1  sg.indeed.com/rc/clk?jk=86d2c472c28278ef&fccid...    Posted7 days ago   \n",
       "2  sg.indeed.com/rc/clk?jk=60532769fe7fed06&fccid...  Posted30+ days ago   \n",
       "3  sg.indeed.com/rc/clk?jk=5bb77b27c75a52dc&fccid...  Posted30+ days ago   \n",
       "4  sg.indeed.com/pagead/clk?mo=r&ad=-6NYlbfkN0AbL...    Posted9 days ago   \n",
       "\n",
       "                    salary                                    job description  \n",
       "0  $2,600 - $2,800 a month  Handle a large volume of outbound calls in a t...  \n",
       "1  $2,900 - $3,800 a month  6 days work week, off on Sundays.\\nWilling to ...  \n",
       "2  $5,000 - $6,500 a month  Keep Rice on the Rice steamers on the stipulat...  \n",
       "3              $15 an hour  Work-from-home Accountants Job Scope? To compl...  \n",
       "4  $2,600 - $3,000 a month  6 days rotational shift work week.\\nSalary up ...  "
      ]
     },
     "execution_count": 2,
     "metadata": {},
     "output_type": "execute_result"
    }
   ],
   "source": [
    "import pandas as pd\n",
    "big_df = pd.read_excel('700_job_listings.xls')\n",
    "print(\"{} job listings found in database.\".format(len(big_df)))\n",
    "big_df.head()\n"
   ]
  },
  {
   "cell_type": "code",
   "execution_count": null,
   "metadata": {},
   "outputs": [],
   "source": [
    "big_df = big_df.dropna(())\n",
    "print(\" {} job listings in database after cleaning\".format(len(big_df))"
   ]
  }
 ],
 "metadata": {
  "interpreter": {
   "hash": "40d3a090f54c6569ab1632332b64b2c03c39dcf918b08424e98f38b5ae0af88f"
  },
  "kernelspec": {
   "display_name": "Python 3.8.5 ('base')",
   "language": "python",
   "name": "python3"
  },
  "language_info": {
   "codemirror_mode": {
    "name": "ipython",
    "version": 3
   },
   "file_extension": ".py",
   "mimetype": "text/x-python",
   "name": "python",
   "nbconvert_exporter": "python",
   "pygments_lexer": "ipython3",
   "version": "3.8.5"
  },
  "orig_nbformat": 4
 },
 "nbformat": 4,
 "nbformat_minor": 2
}
